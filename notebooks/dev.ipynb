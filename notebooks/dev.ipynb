{
 "cells": [
  {
   "cell_type": "code",
   "execution_count": 2,
   "id": "a06235c9",
   "metadata": {},
   "outputs": [],
   "source": [
    "import torch \n",
    "import torch.nn as nn\n",
    "import math"
   ]
  },
  {
   "cell_type": "code",
   "execution_count": null,
   "id": "fbb292be",
   "metadata": {},
   "outputs": [],
   "source": [
    "class WeightStandardizedConv(nn.Conv2d):\n",
    "    \"\"\" \n",
    "        This class standardizes the weights inside the convolutional layer (z score normalization)\n",
    "    \"\"\"\n",
    "    def forward(self, x:torch.Tensor) -> torch.Tensor:\n",
    "        w = self.weight\n",
    "        w_mean = w.mean(dim=[1,2,3], keepdim=True)\n",
    "        w_var = w.var(dim=[1,2,3], keepdim=True, correction=0) # divide by N instead of N-1\n",
    "        eps = 1e-5 if x.type in (torch.float32, torch.float64) else 1e-3\n",
    "        weights = (w - w_mean) / torch.sqrt(w_var + eps)\n",
    "        return torch.nn.functional.conv2d(\n",
    "            x,\n",
    "            weights,\n",
    "            self.bias,\n",
    "            self.stride,\n",
    "            self.padding,\n",
    "            self.dilation,\n",
    "            self.groups\n",
    "        )"
   ]
  },
  {
   "cell_type": "code",
   "execution_count": 21,
   "id": "7d630ca3",
   "metadata": {},
   "outputs": [],
   "source": [
    "class block(nn.Module):\n",
    "    \"\"\" \n",
    "        Regular block inside resnet class - consists of projections + groupnorm + possible time embedding (scale and shift) + SiLU activation\n",
    "    \"\"\"\n",
    "    def __init__(self, c_in:int, c_out:int, gn_groups:int):\n",
    "        super().__init__()\n",
    "        assert c_out % gn_groups == 0, \"c_out must be divisible by gn_groups\"\n",
    "        self.norm = nn.GroupNorm(num_groups=gn_groups, num_channels=c_out)\n",
    "        self.projection = WeightStandardizedConv(c_in, c_out, kernel_size=3, padding=1, bias=False)\n",
    "        self.activation = nn.SiLU()\n",
    "    \n",
    "    def forward(self, x:torch.Tensor, scale_shift:torch.Tensor|None = None) -> torch.Tensor:\n",
    "        x = self.projection(x)\n",
    "        x = self.norm(x)\n",
    "        if scale_shift is not None:\n",
    "            scale, shift = scale_shift.chunk(chunks=2, dim=1)   # scale_shift shape: (B, 2*c_out, 1, 1)\n",
    "            scale, shift = scale.to(x.device), shift.to(x.device)\n",
    "            x = x * (scale+1) + shift\n",
    "        return self.activation(x)"
   ]
  },
  {
   "cell_type": "code",
   "execution_count": null,
   "id": "1a870488",
   "metadata": {},
   "outputs": [],
   "source": [
    "class resnet(nn.Module):\n",
    "    \"\"\" \n",
    "        resnet block that applies resitual connection to multiple regular blocks\n",
    "    \"\"\""
   ]
  },
  {
   "cell_type": "code",
   "execution_count": null,
   "id": "15bdd650",
   "metadata": {},
   "outputs": [],
   "source": []
  },
  {
   "cell_type": "code",
   "execution_count": null,
   "id": "e4420151",
   "metadata": {},
   "outputs": [],
   "source": []
  }
 ],
 "metadata": {
  "kernelspec": {
   "display_name": "base",
   "language": "python",
   "name": "python3"
  },
  "language_info": {
   "codemirror_mode": {
    "name": "ipython",
    "version": 3
   },
   "file_extension": ".py",
   "mimetype": "text/x-python",
   "name": "python",
   "nbconvert_exporter": "python",
   "pygments_lexer": "ipython3",
   "version": "3.12.7"
  }
 },
 "nbformat": 4,
 "nbformat_minor": 5
}
